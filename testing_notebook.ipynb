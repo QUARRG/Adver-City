{
 "cells": [
  {
   "cell_type": "markdown",
   "id": "cd5730dd",
   "metadata": {},
   "source": [
    "## Testing Notebook\n",
    "\n",
    "Use this notebook to easily test things in Carla in runtime, such as sensor positioning, weather configurations, or object locations."
   ]
  },
  {
   "cell_type": "markdown",
   "id": "e4422e94",
   "metadata": {},
   "source": [
    "#### Import libraries"
   ]
  },
  {
   "cell_type": "code",
   "execution_count": 1,
   "id": "c80b6cbf",
   "metadata": {},
   "outputs": [],
   "source": [
    "import carla\n",
    "import math\n",
    "import random\n",
    "import time\n",
    "import numpy as np"
   ]
  },
  {
   "cell_type": "markdown",
   "id": "719f4926",
   "metadata": {},
   "source": [
    "#### Start Carla client"
   ]
  },
  {
   "cell_type": "code",
   "execution_count": 2,
   "id": "6ba891a3",
   "metadata": {},
   "outputs": [],
   "source": [
    "client = carla.Client('localhost', 2000)"
   ]
  },
  {
   "cell_type": "markdown",
   "id": "da8b5301",
   "metadata": {},
   "source": [
    "#### Load world\n",
    "\n",
    "Adver-City uses \"Town03\" for Urban scenarios and \"Town07\" for Rural scenarios."
   ]
  },
  {
   "cell_type": "code",
   "execution_count": 3,
   "id": "6e821342",
   "metadata": {},
   "outputs": [],
   "source": [
    "world = client.load_world(\"Town07\")\n",
    "bp_lib = world.get_blueprint_library()"
   ]
  },
  {
   "cell_type": "markdown",
   "id": "48d24834",
   "metadata": {},
   "source": [
    "#### Spawn a vehicle"
   ]
  },
  {
   "cell_type": "code",
   "execution_count": 4,
   "id": "0bb6ea03",
   "metadata": {},
   "outputs": [],
   "source": [
    "#vehicle.destroy()\n",
    "#time.sleep(2)\n",
    "vehicle_bp = bp_lib.find('vehicle.lincoln.mkz_2017')\n",
    "vehicle_bp.set_attribute('color', '0, 0, 255')\n",
    "pos = [59.5, -57.88, 4.27, -0.0, -98.43, 5]\n",
    "start_transform = carla.Transform(\n",
    "    carla.Location(x=pos[0], y=pos[1], z=pos[2]),\n",
    "    carla.Rotation(roll=pos[3], yaw=pos[4], pitch=pos[5])\n",
    ")\n",
    "vehicle = world.try_spawn_actor(vehicle_bp, start_transform)"
   ]
  },
  {
   "cell_type": "markdown",
   "id": "f28a670c",
   "metadata": {},
   "source": [
    "#### Change spectator position"
   ]
  },
  {
   "cell_type": "code",
   "execution_count": 5,
   "id": "627ef08b",
   "metadata": {},
   "outputs": [],
   "source": [
    "spectator = world.get_spectator()\n",
    "pos_spec = [52.58, -77.76, 7.57, 0.0, 6, -5]\n",
    "transform = carla.Transform(\n",
    "    carla.Location(x=pos_spec[0], y=pos_spec[1], z=pos_spec[2]),\n",
    "    carla.Rotation(roll=pos_spec[3], yaw=pos_spec[4], pitch=pos_spec[5])\n",
    ")\n",
    "spectator.set_transform(transform)"
   ]
  },
  {
   "cell_type": "markdown",
   "id": "5ee6f1a1",
   "metadata": {},
   "source": [
    "#### Spawn a walker (pedestrian)"
   ]
  },
  {
   "cell_type": "code",
   "execution_count": 6,
   "id": "5a7a8da6",
   "metadata": {},
   "outputs": [],
   "source": [
    "walker_id = np.random.randint(41)\n",
    "walker_bp = bp_lib.find('walker.pedestrian.' + '%04d' % walker_id)\n",
    "walker_pos = [-6.44, 46.45, 0.3, 0, 00.42, 0]\n",
    "start_transform = carla.Transform(\n",
    "    carla.Location(x=walker_pos[0], y=walker_pos[1], z=walker_pos[2]),\n",
    "    carla.Rotation(roll=walker_pos[3], yaw=walker_pos[4], pitch=walker_pos[5])\n",
    ")\n",
    "walker = world.try_spawn_actor(walker_bp, start_transform)\n",
    "\n",
    "walker_controller_bp = bp_lib.find('controller.ai.walker')\n",
    "walker_controller = world.try_spawn_actor(walker_controller_bp, carla.Transform(), walker)\n",
    "walker_controller.start()\n",
    "walker_controller.go_to_location(world.get_random_location_from_navigation())\n",
    "walker_controller.set_max_speed(1 + random.random())"
   ]
  },
  {
   "cell_type": "markdown",
   "id": "bb236e5b",
   "metadata": {},
   "source": [
    "#### Get current position of spectator"
   ]
  },
  {
   "cell_type": "code",
   "execution_count": 7,
   "id": "0c6a636c",
   "metadata": {},
   "outputs": [
    {
     "name": "stdout",
     "output_type": "stream",
     "text": [
      "[52.58, -77.76, 7.57, 0.0, 6.0, -5.0]\n"
     ]
    }
   ],
   "source": [
    "t = world.get_spectator().get_transform()\n",
    "coordinate_str = \"[{}, {}, {}, {}, {}, {}]\".format(\n",
    "    round(t.location.x,2), \n",
    "    round(t.location.y,2), \n",
    "    round(t.location.z,2),  \n",
    "    round(t.rotation.roll,2),\n",
    "    round(t.rotation.yaw,2), \n",
    "    round(t.rotation.pitch,2))\n",
    "print(coordinate_str)"
   ]
  },
  {
   "cell_type": "markdown",
   "id": "6573c079",
   "metadata": {},
   "source": [
    "#### Some of the weather conditions used by Adver-City"
   ]
  },
  {
   "cell_type": "code",
   "execution_count": 8,
   "id": "a562689f",
   "metadata": {},
   "outputs": [],
   "source": [
    "glareDay = carla.WeatherParameters(\n",
    "    cloudiness = 0,\n",
    "    fog_density = 8,\n",
    "    wetness = 0,\n",
    "    wind_intensity = 0,\n",
    "    fog_distance = 0.75,\n",
    "    fog_falloff = 0.2,\n",
    "    precipitation = 0,\n",
    "    precipitation_deposits = 0,\n",
    "    sun_altitude_angle = 11,\n",
    "    rayleigh_scattering_scale = 0.02,\n",
    "    scattering_intensity = 1,\n",
    "    mie_scattering_scale = 0.0,\n",
    "    sun_azimuth_angle = 90\n",
    ")\n",
    "\n",
    "clearNoon = carla.WeatherParameters(\n",
    "    cloudiness = 3,\n",
    "    fog_density = 2,\n",
    "    wetness = 0,\n",
    "    wind_intensity = 10,\n",
    "    fog_distance = 0.75,\n",
    "    fog_falloff = 0.1,\n",
    "    precipitation = 0,\n",
    "    precipitation_deposits = 0,\n",
    "    sun_altitude_angle = 60,\n",
    "    rayleigh_scattering_scale = 0.02,\n",
    "    scattering_intensity = 1,\n",
    "    mie_scattering_scale = 0.0\n",
    ")\n",
    "\n",
    "softRainNoon = carla.WeatherParameters(\n",
    "    cloudiness = 70,\n",
    "    fog_density = 5,\n",
    "    wetness = 80,\n",
    "    wind_intensity = 30,\n",
    "    fog_distance = 0.75,\n",
    "    fog_falloff = 0.1,\n",
    "    precipitation = 30,\n",
    "    precipitation_deposits = 20,\n",
    "    sun_altitude_angle = 60,\n",
    "    rayleigh_scattering_scale = 0.02,\n",
    "    scattering_intensity = 1,\n",
    "    mie_scattering_scale = 0.0\n",
    ")\n",
    "\n",
    "hardRainNoon = carla.WeatherParameters(\n",
    "    cloudiness = 95,\n",
    "    fog_density = 7,\n",
    "    wetness = 100,\n",
    "    wind_intensity = 90,\n",
    "    fog_distance = 0.75,\n",
    "    fog_falloff = 0.1,\n",
    "    precipitation = 100,\n",
    "    precipitation_deposits = 85,\n",
    "    sun_altitude_angle = 60,\n",
    "    rayleigh_scattering_scale = 0.02,\n",
    "    scattering_intensity = 1,\n",
    "    mie_scattering_scale = 0.0\n",
    ")\n",
    "\n",
    "clearNight = carla.WeatherParameters(\n",
    "    cloudiness = 3,\n",
    "    fog_density = 2,\n",
    "    wetness = 0,\n",
    "    wind_intensity = 10,\n",
    "    fog_distance = 0.75,\n",
    "    fog_falloff = 0.1,\n",
    "    precipitation = 0,\n",
    "    precipitation_deposits = 0,\n",
    "    sun_altitude_angle = -90,\n",
    "    rayleigh_scattering_scale = 0.02,\n",
    "    scattering_intensity = 1,\n",
    "    mie_scattering_scale = 0.0\n",
    ")\n",
    "\n",
    "softRainNight = carla.WeatherParameters(\n",
    "    cloudiness = 70,\n",
    "    fog_density = 7,\n",
    "    wetness = 90,\n",
    "    wind_intensity = 30,\n",
    "    fog_distance = 0.75,\n",
    "    fog_falloff = 0.1,\n",
    "    precipitation = 30,\n",
    "    precipitation_deposits = 25,\n",
    "    sun_altitude_angle = -90,\n",
    "    rayleigh_scattering_scale = 0.02,\n",
    "    scattering_intensity = 2,\n",
    "    mie_scattering_scale = 0.0\n",
    ")\n",
    "\n",
    "hardRainNight = carla.WeatherParameters(\n",
    "    cloudiness = 95,\n",
    "    fog_density = 9,\n",
    "    wetness = 100,\n",
    "    wind_intensity = 90,\n",
    "    fog_distance = 0.75,\n",
    "    fog_falloff = 0.1,\n",
    "    precipitation = 100,\n",
    "    precipitation_deposits = 90,\n",
    "    sun_altitude_angle = -90,\n",
    "    rayleigh_scattering_scale = 0.02,\n",
    "    scattering_intensity = 2,\n",
    "    mie_scattering_scale = 0.0\n",
    ")\n",
    "\n",
    "world.set_weather(clearNoon)"
   ]
  }
 ],
 "metadata": {
  "kernelspec": {
   "display_name": "carla12",
   "language": "python",
   "name": "carla12"
  },
  "language_info": {
   "codemirror_mode": {
    "name": "ipython",
    "version": 3
   },
   "file_extension": ".py",
   "mimetype": "text/x-python",
   "name": "python",
   "nbconvert_exporter": "python",
   "pygments_lexer": "ipython3",
   "version": "3.7.17"
  }
 },
 "nbformat": 4,
 "nbformat_minor": 5
}
